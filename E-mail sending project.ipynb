{
 "cells": [
  {
   "cell_type": "markdown",
   "metadata": {},
   "source": [
    "# E-mail sending project"
   ]
  },
  {
   "cell_type": "code",
   "execution_count": 1,
   "metadata": {},
   "outputs": [
    {
     "name": "stdout",
     "output_type": "stream",
     "text": [
      "Requirement already satisfied: emails in c:\\users\\hp\\anaconda3\\lib\\site-packages (0.6)\n",
      "Requirement already satisfied: premailer in c:\\users\\hp\\anaconda3\\lib\\site-packages (from emails) (3.7.0)\n",
      "Requirement already satisfied: requests in c:\\users\\hp\\anaconda3\\lib\\site-packages (from emails) (2.24.0)\n",
      "Requirement already satisfied: python-dateutil in c:\\users\\hp\\anaconda3\\lib\\site-packages (from emails) (2.8.1)\n",
      "Requirement already satisfied: chardet in c:\\users\\hp\\anaconda3\\lib\\site-packages (from emails) (3.0.4)\n",
      "Requirement already satisfied: cssutils in c:\\users\\hp\\anaconda3\\lib\\site-packages (from emails) (1.0.2)\n",
      "Requirement already satisfied: lxml in c:\\users\\hp\\anaconda3\\lib\\site-packages (from emails) (4.6.1)\n",
      "Requirement already satisfied: cssselect in c:\\users\\hp\\anaconda3\\lib\\site-packages (from premailer->emails) (1.1.0)\n",
      "Requirement already satisfied: cachetools in c:\\users\\hp\\anaconda3\\lib\\site-packages (from premailer->emails) (4.2.0)\n",
      "Requirement already satisfied: certifi>=2017.4.17 in c:\\users\\hp\\anaconda3\\lib\\site-packages (from requests->emails) (2020.6.20)\n",
      "Requirement already satisfied: idna<3,>=2.5 in c:\\users\\hp\\anaconda3\\lib\\site-packages (from requests->emails) (2.10)\n",
      "Requirement already satisfied: urllib3!=1.25.0,!=1.25.1,<1.26,>=1.21.1 in c:\\users\\hp\\anaconda3\\lib\\site-packages (from requests->emails) (1.25.11)\n",
      "Requirement already satisfied: six>=1.5 in c:\\users\\hp\\anaconda3\\lib\\site-packages (from python-dateutil->emails) (1.15.0)\n"
     ]
    }
   ],
   "source": [
    "!pip install emails"
   ]
  },
  {
   "cell_type": "code",
   "execution_count": 2,
   "metadata": {},
   "outputs": [],
   "source": [
    "import emails"
   ]
  },
  {
   "cell_type": "code",
   "execution_count": 15,
   "metadata": {},
   "outputs": [],
   "source": [
    "def sendMail(email, name):\n",
    "    html_text = '''\n",
    "    <p><strong><span style='background-color: rgb(239, 239, 239); font-family: \"Palatino Linotype\", \"Book Antiqua\", Palatino, serif;'>Hello batragilta,</span></strong></p>\n",
    "    <p><span style=\"font-family: 'Palatino Linotype', 'Book Antiqua', Palatino, serif;\">&nbsp; &nbsp; &nbsp;How are you?</span></p>\n",
    "    <p><span style=\"font-family: 'Palatino Linotype', 'Book Antiqua', Palatino, serif;\">&nbsp; &nbsp; &nbsp;This is <strong>Nishkala</strong> from Karnataka. This is my 2nd project with <strong>LetsUpgrade</strong>.</span></p>\n",
    "    <p><span style=\"font-family: 'Palatino Linotype', 'Book Antiqua', Palatino, serif;\">&nbsp; &nbsp; &nbsp;</span><span style=\"font-family: Georgia, serif;\">Hope you will like this project.</span></p>\n",
    "    <p><span style=\"font-family: 'Palatino Linotype', 'Book Antiqua', Palatino, serif;\"><br></span></p>\n",
    "    <p><span style=\"font-family: 'Palatino Linotype', 'Book Antiqua', Palatino, serif;\"><strong><span style=\"background-color: rgb(239, 239, 239);\">Thanks &amp;Regards</span></strong></span></p>\n",
    "    <p><strong><span style='font-family: \"Palatino Linotype\", \"Book Antiqua\", Palatino, serif; background-color: rgb(239, 239, 239);'>Nishkala Harikantra</span></strong></p>\n",
    "    '''\n",
    "    \n",
    "    subject = \"Hey \" + name + \",you have email from abcd efg\"\n",
    "    message = emails.html(html=html_text,\n",
    "                          subject=subject,\n",
    "                          mail_from=('abcd efg', 'abcdef1234001111@gmail.com'))\n",
    "    \n",
    "    mail_via_python = message.send(to=email, \n",
    "                               smtp={'host': 'smtp.gmail.com', \n",
    "                                     'timeout': 5,\n",
    "                                    'port':587,\n",
    "                                    'user':'abcdef1234001111@gmail.com',\n",
    "                                    'password':'Abcdefg@11',\n",
    "                                    'tls':True})\n",
    "    return mail_via_python.status_code"
   ]
  },
  {
   "cell_type": "code",
   "execution_count": 21,
   "metadata": {},
   "outputs": [],
   "source": [
    "sendMail('batragilta@nedoz.com','abcd efg')"
   ]
  },
  {
   "cell_type": "code",
   "execution_count": null,
   "metadata": {},
   "outputs": [],
   "source": []
  }
 ],
 "metadata": {
  "kernelspec": {
   "display_name": "Python 3",
   "language": "python",
   "name": "python3"
  },
  "language_info": {
   "codemirror_mode": {
    "name": "ipython",
    "version": 3
   },
   "file_extension": ".py",
   "mimetype": "text/x-python",
   "name": "python",
   "nbconvert_exporter": "python",
   "pygments_lexer": "ipython3",
   "version": "3.8.5"
  }
 },
 "nbformat": 4,
 "nbformat_minor": 4
}
