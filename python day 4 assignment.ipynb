{
 "cells": [
  {
   "cell_type": "markdown",
   "metadata": {},
   "source": [
    "# DAY 4 ASSIGNMENT"
   ]
  },
  {
   "cell_type": "markdown",
   "metadata": {},
   "source": [
    "1. Write down a program in python for opening a file and writing \"I Love LetsUpgrade\" and close it and read it back again, and append some data to it and close it."
   ]
  },
  {
   "cell_type": "code",
   "execution_count": 1,
   "metadata": {},
   "outputs": [],
   "source": [
    "# Create a file\n",
    "My_file = open(\"Pythonworld.txt\" , 'w')\n",
    "My_file.write(\"I Love LetsUpgrade. \")\n",
    "My_file.close()"
   ]
  },
  {
   "cell_type": "code",
   "execution_count": 2,
   "metadata": {},
   "outputs": [],
   "source": [
    "#read the file\n",
    "My_file = open(\"Pythonworld.txt\" , 'r')\n",
    "content = My_file.read()\n",
    "My_file.close()"
   ]
  },
  {
   "cell_type": "code",
   "execution_count": 3,
   "metadata": {},
   "outputs": [
    {
     "data": {
      "text/plain": [
       "'I Love LetsUpgrade. '"
      ]
     },
     "execution_count": 3,
     "metadata": {},
     "output_type": "execute_result"
    }
   ],
   "source": [
    "content"
   ]
  },
  {
   "cell_type": "code",
   "execution_count": 4,
   "metadata": {},
   "outputs": [],
   "source": [
    "My_file = open(\"Pythonworld.txt\" , 'a')\n",
    "My_file.write(\"Thanks for the free python essential program. \")\n",
    "My_file.close()"
   ]
  },
  {
   "cell_type": "markdown",
   "metadata": {},
   "source": [
    "2.Write a function which can return a factorial of any number as int , given in the argument"
   ]
  },
  {
   "cell_type": "code",
   "execution_count": 5,
   "metadata": {},
   "outputs": [
    {
     "name": "stdout",
     "output_type": "stream",
     "text": [
      "Enter a number3\n",
      "The factorial of 3 is :  6\n"
     ]
    }
   ],
   "source": [
    "import math\n",
    "num = input(\"Enter a number\")\n",
    "print (\"The factorial of\" , num ,\"is : \", end = \" \")\n",
    "print(math.factorial(int(num)))"
   ]
  }
 ],
 "metadata": {
  "kernelspec": {
   "display_name": "Python 3",
   "language": "python",
   "name": "python3"
  },
  "language_info": {
   "codemirror_mode": {
    "name": "ipython",
    "version": 3
   },
   "file_extension": ".py",
   "mimetype": "text/x-python",
   "name": "python",
   "nbconvert_exporter": "python",
   "pygments_lexer": "ipython3",
   "version": "3.8.5"
  }
 },
 "nbformat": 4,
 "nbformat_minor": 4
}
