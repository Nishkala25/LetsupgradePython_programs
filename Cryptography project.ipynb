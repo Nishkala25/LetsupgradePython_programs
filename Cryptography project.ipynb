{
 "cells": [
  {
   "cell_type": "markdown",
   "metadata": {},
   "source": [
    "# Program to encrypt the message entered by user and decrypt message when the key is correct"
   ]
  },
  {
   "cell_type": "code",
   "execution_count": 1,
   "metadata": {},
   "outputs": [
    {
     "name": "stdout",
     "output_type": "stream",
     "text": [
      "Requirement already satisfied: cryptography in c:\\users\\hp\\anaconda3\\lib\\site-packages (3.1.1)\n",
      "Requirement already satisfied: cffi!=1.11.3,>=1.8 in c:\\users\\hp\\anaconda3\\lib\\site-packages (from cryptography) (1.14.3)\n",
      "Requirement already satisfied: six>=1.4.1 in c:\\users\\hp\\anaconda3\\lib\\site-packages (from cryptography) (1.15.0)\n",
      "Requirement already satisfied: pycparser in c:\\users\\hp\\anaconda3\\lib\\site-packages (from cffi!=1.11.3,>=1.8->cryptography) (2.20)\n"
     ]
    }
   ],
   "source": [
    "!pip install cryptography"
   ]
  },
  {
   "cell_type": "code",
   "execution_count": 2,
   "metadata": {},
   "outputs": [],
   "source": [
    "from cryptography.fernet import Fernet"
   ]
  },
  {
   "cell_type": "code",
   "execution_count": 3,
   "metadata": {},
   "outputs": [
    {
     "name": "stdout",
     "output_type": "stream",
     "text": [
      "Enter the message that you want to encrypt\n",
      "Happy Learning\n",
      "Encrypted Message is: b'gAAAAABf3ZPSNtV_oom5i5n9KTWByNsryjjUc0n-MnA2mO61Idin3rJHKA_Jpu-akN5qda94tfOnqyLlPRQS_TVkNWARH5yDzQ=='\n"
     ]
    }
   ],
   "source": [
    "#function to generate key\n",
    "def generateKey():\n",
    "    '''\n",
    "    generate a Key and save to file\n",
    "    '''\n",
    "    key = Fernet.generate_key()\n",
    "    key_file = open(\"secret_key\",\"wb\")\n",
    "    key_file.write(key)\n",
    "    \n",
    "#function to load the key\n",
    "def load_key():\n",
    "    '''\n",
    "    loads the key named secrete key from current directory\n",
    "    '''\n",
    "    return open(\"secret_key\",\"rb\").read()\n",
    "\n",
    "def encrypt_message(message):\n",
    "    '''\n",
    "    encrypts the message\n",
    "    '''\n",
    "    generateKey()\n",
    "    key = load_key()\n",
    "    encoded_message = message.encode()\n",
    "    f = Fernet(key)\n",
    "    encrypted_message = f.encrypt(encoded_message)\n",
    "    print(\"Encrypted Message is:\",encrypted_message)\n",
    "    \n",
    "message = input(\"Enter the message that you want to encrypt\\n\")\n",
    "encrypt_message(message)"
   ]
  },
  {
   "cell_type": "code",
   "execution_count": 5,
   "metadata": {},
   "outputs": [
    {
     "name": "stdout",
     "output_type": "stream",
     "text": [
      "Decrypted message is : Happy Learning\n"
     ]
    }
   ],
   "source": [
    "#Decrypting the key\n",
    "def decrypt_message(encrypted_message):\n",
    "    '''\n",
    "    Decrypts an encrypted message\n",
    "    '''\n",
    "    key = load_key()\n",
    "    f = Fernet(key)\n",
    "    decrypted_message = f.decrypt(encrypted_message)\n",
    "    print(\"Decrypted message is :\",decrypted_message.decode())\n",
    "    \n",
    "decrypt_message(b'gAAAAABf3ZPSNtV_oom5i5n9KTWByNsryjjUc0n-MnA2mO61Idin3rJHKA_Jpu-akN5qda94tfOnqyLlPRQS_TVkNWARH5yDzQ==')\n"
   ]
  }
 ],
 "metadata": {
  "kernelspec": {
   "display_name": "Python 3",
   "language": "python",
   "name": "python3"
  },
  "language_info": {
   "codemirror_mode": {
    "name": "ipython",
    "version": 3
   },
   "file_extension": ".py",
   "mimetype": "text/x-python",
   "name": "python",
   "nbconvert_exporter": "python",
   "pygments_lexer": "ipython3",
   "version": "3.8.5"
  }
 },
 "nbformat": 4,
 "nbformat_minor": 4
}
