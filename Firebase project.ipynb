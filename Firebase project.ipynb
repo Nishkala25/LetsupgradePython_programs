{
 "cells": [
  {
   "cell_type": "markdown",
   "metadata": {},
   "source": [
    "# Firebase Project"
   ]
  },
  {
   "cell_type": "code",
   "execution_count": 6,
   "metadata": {},
   "outputs": [
    {
     "name": "stdout",
     "output_type": "stream",
     "text": [
      "Requirement already satisfied: firebase in c:\\users\\hp\\anaconda3\\lib\\site-packages (3.0.1)\n",
      "Requirement already satisfied: requests in c:\\users\\hp\\anaconda3\\lib\\site-packages (from firebase) (2.24.0)\n",
      "Requirement already satisfied: idna<3,>=2.5 in c:\\users\\hp\\anaconda3\\lib\\site-packages (from requests->firebase) (2.10)\n",
      "Requirement already satisfied: chardet<4,>=3.0.2 in c:\\users\\hp\\anaconda3\\lib\\site-packages (from requests->firebase) (3.0.4)\n",
      "Requirement already satisfied: urllib3!=1.25.0,!=1.25.1,<1.26,>=1.21.1 in c:\\users\\hp\\anaconda3\\lib\\site-packages (from requests->firebase) (1.25.11)\n",
      "Requirement already satisfied: certifi>=2017.4.17 in c:\\users\\hp\\anaconda3\\lib\\site-packages (from requests->firebase) (2020.6.20)\n"
     ]
    }
   ],
   "source": [
    "!pip install firebase"
   ]
  },
  {
   "cell_type": "code",
   "execution_count": 7,
   "metadata": {},
   "outputs": [],
   "source": [
    "import firebase_admin"
   ]
  },
  {
   "cell_type": "code",
   "execution_count": 8,
   "metadata": {},
   "outputs": [],
   "source": [
    "from firebase_admin import credentials\n",
    "from firebase_admin import firestore"
   ]
  },
  {
   "cell_type": "code",
   "execution_count": 9,
   "metadata": {},
   "outputs": [
    {
     "data": {
      "text/plain": [
       "<firebase_admin.App at 0x2227cde6190>"
      ]
     },
     "execution_count": 9,
     "metadata": {},
     "output_type": "execute_result"
    }
   ],
   "source": [
    "cred = credentials.Certificate(\"python-firebase-project-95bbb-firebase-adminsdk-ohh2u-b4c83b33aa.json\")\n",
    "firebase_admin.initialize_app(cred)"
   ]
  },
  {
   "cell_type": "code",
   "execution_count": 10,
   "metadata": {},
   "outputs": [],
   "source": [
    "db = firestore.client()"
   ]
  },
  {
   "cell_type": "code",
   "execution_count": 12,
   "metadata": {},
   "outputs": [
    {
     "data": {
      "text/plain": [
       "update_time {\n",
       "  seconds: 1608385536\n",
       "  nanos: 85233000\n",
       "}"
      ]
     },
     "execution_count": 12,
     "metadata": {},
     "output_type": "execute_result"
    }
   ],
   "source": [
    "doc_ref = db.collection(u'users').document(u'abc')\n",
    "doc_ref.set({\n",
    "    u'first': u'Nishkala',\n",
    "    u'last': u'Harikantra',\n",
    "    u'born': 2001\n",
    "})\n"
   ]
  },
  {
   "cell_type": "code",
   "execution_count": 19,
   "metadata": {},
   "outputs": [],
   "source": [
    "def enterDataInDB(name,lastName,age):\n",
    "    doc_ref = db.collection(u'users').document()\n",
    "    \n",
    "    dit = {}\n",
    "    dit[\"firstName\"] = name\n",
    "    dit[\"lastName\"] = lastName\n",
    "    dit[\"age\"] = age\n",
    "    \n",
    "    doc_ref.set(dit)"
   ]
  },
  {
   "cell_type": "code",
   "execution_count": 20,
   "metadata": {},
   "outputs": [],
   "source": [
    "enterDataInDB(\"abc\",\"def\",12)"
   ]
  },
  {
   "cell_type": "code",
   "execution_count": 21,
   "metadata": {},
   "outputs": [],
   "source": [
    "enterDataInDB(\"xyz\",\"zyx\",34)"
   ]
  },
  {
   "cell_type": "code",
   "execution_count": 22,
   "metadata": {},
   "outputs": [],
   "source": [
    "enterDataInDB(\"mno\",\"onm\",56)"
   ]
  },
  {
   "cell_type": "code",
   "execution_count": 23,
   "metadata": {},
   "outputs": [],
   "source": [
    "enterDataInDB(\"pqr\",\"rqp\",78)"
   ]
  },
  {
   "cell_type": "code",
   "execution_count": 24,
   "metadata": {},
   "outputs": [],
   "source": [
    "enterDataInDB(\"tuv\",\"vut\",11)"
   ]
  },
  {
   "cell_type": "code",
   "execution_count": 25,
   "metadata": {},
   "outputs": [
    {
     "name": "stdout",
     "output_type": "stream",
     "text": [
      "ID -  6yT2iH5b6jLptXRR9X8t\n",
      "First Name -  tuv\n",
      "Last Name -  vut\n",
      "Age -  11\n",
      "\n",
      "-x-x-x-x-x-x-x-x-x-x\n",
      "-x-x-x-x-x-x-x-x-x-x\n",
      "\n",
      "ID -  abc\n",
      "First Name -  None\n",
      "Last Name -  None\n",
      "Age -  None\n",
      "\n",
      "-x-x-x-x-x-x-x-x-x-x\n",
      "-x-x-x-x-x-x-x-x-x-x\n",
      "\n",
      "ID -  d0OvpoGn5OngviDfEGrw\n",
      "First Name -  mno\n",
      "Last Name -  onm\n",
      "Age -  56\n",
      "\n",
      "-x-x-x-x-x-x-x-x-x-x\n",
      "-x-x-x-x-x-x-x-x-x-x\n",
      "\n",
      "ID -  d7dBd9qsnKUAmbOgGlVi\n",
      "First Name -  abc\n",
      "Last Name -  def\n",
      "Age -  12\n",
      "\n",
      "-x-x-x-x-x-x-x-x-x-x\n",
      "-x-x-x-x-x-x-x-x-x-x\n",
      "\n",
      "ID -  rOv1wcSZoi2HDq5Qp1fn\n",
      "First Name -  pqr\n",
      "Last Name -  rqp\n",
      "Age -  78\n",
      "\n",
      "-x-x-x-x-x-x-x-x-x-x\n",
      "-x-x-x-x-x-x-x-x-x-x\n",
      "\n",
      "ID -  xQwuAV72zhlHedEeOHk7\n",
      "First Name -  xyz\n",
      "Last Name -  zyx\n",
      "Age -  34\n",
      "\n",
      "-x-x-x-x-x-x-x-x-x-x\n",
      "-x-x-x-x-x-x-x-x-x-x\n",
      "\n"
     ]
    }
   ],
   "source": [
    "docs = db.collection(u'users').stream()\n",
    "\n",
    "for doc in docs:\n",
    "    \n",
    "    print(\"ID - \", doc.id)\n",
    "    \n",
    "    print(\"First Name - \", doc.to_dict().get(\"firstName\"))\n",
    "    print(\"Last Name - \", doc.to_dict().get(\"lastName\"))\n",
    "    print(\"Age - \", doc.to_dict().get(\"age\") )\n",
    "    \n",
    "    print(\"\\n-x-x-x-x-x-x-x-x-x-x\")\n",
    "    print(\"-x-x-x-x-x-x-x-x-x-x\\n\")"
   ]
  },
  {
   "cell_type": "code",
   "execution_count": 26,
   "metadata": {},
   "outputs": [],
   "source": [
    "def updateDatainFirebase(uid, updatedAge):\n",
    "    doc_ref = db.collection(u'users').document(uid)\n",
    "    \n",
    "    doc_ref.update({\"age\":updatedAge})"
   ]
  },
  {
   "cell_type": "code",
   "execution_count": 27,
   "metadata": {},
   "outputs": [],
   "source": [
    "updateDatainFirebase(\"6yT2iH5b6jLptXRR9X8t\",62)"
   ]
  },
  {
   "cell_type": "code",
   "execution_count": 28,
   "metadata": {},
   "outputs": [],
   "source": [
    "updateDatainFirebase(\"d0OvpoGn5OngviDfEGrw\",75)"
   ]
  },
  {
   "cell_type": "code",
   "execution_count": 29,
   "metadata": {},
   "outputs": [],
   "source": [
    "def deleteDataInFirebase(uid):\n",
    "    db.collection(u'users').document(uid).delete()"
   ]
  },
  {
   "cell_type": "code",
   "execution_count": 30,
   "metadata": {},
   "outputs": [],
   "source": [
    "deleteDataInFirebase(\"abc\")"
   ]
  }
 ],
 "metadata": {
  "kernelspec": {
   "display_name": "Python 3",
   "language": "python",
   "name": "python3"
  },
  "language_info": {
   "codemirror_mode": {
    "name": "ipython",
    "version": 3
   },
   "file_extension": ".py",
   "mimetype": "text/x-python",
   "name": "python",
   "nbconvert_exporter": "python",
   "pygments_lexer": "ipython3",
   "version": "3.8.5"
  }
 },
 "nbformat": 4,
 "nbformat_minor": 4
}
